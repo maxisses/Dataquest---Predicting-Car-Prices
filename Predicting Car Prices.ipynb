{
 "cells": [
  {
   "cell_type": "markdown",
   "metadata": {
    "collapsed": true,
    "deletable": true,
    "editable": true
   },
   "source": [
    "Predicting Car Prices with K-nearest Regression"
   ]
  },
  {
   "cell_type": "code",
   "execution_count": 660,
   "metadata": {
    "collapsed": true
   },
   "outputs": [],
   "source": [
    "import pandas as pd\n",
    "import numpy as np\n",
    "pd.options.display.max_columns = 99"
   ]
  },
  {
   "cell_type": "code",
   "execution_count": 661,
   "metadata": {
    "collapsed": false
   },
   "outputs": [],
   "source": [
    "cars = pd.read_csv('../datasets/imports-85.data.txt', header= None)"
   ]
  },
  {
   "cell_type": "code",
   "execution_count": 662,
   "metadata": {
    "collapsed": false
   },
   "outputs": [
    {
     "name": "stdout",
     "output_type": "stream",
     "text": [
      "<class 'pandas.core.frame.DataFrame'>\n",
      "RangeIndex: 205 entries, 0 to 204\n",
      "Data columns (total 26 columns):\n",
      "0     205 non-null int64\n",
      "1     205 non-null object\n",
      "2     205 non-null object\n",
      "3     205 non-null object\n",
      "4     205 non-null object\n",
      "5     205 non-null object\n",
      "6     205 non-null object\n",
      "7     205 non-null object\n",
      "8     205 non-null object\n",
      "9     205 non-null float64\n",
      "10    205 non-null float64\n",
      "11    205 non-null float64\n",
      "12    205 non-null float64\n",
      "13    205 non-null int64\n",
      "14    205 non-null object\n",
      "15    205 non-null object\n",
      "16    205 non-null int64\n",
      "17    205 non-null object\n",
      "18    205 non-null object\n",
      "19    205 non-null object\n",
      "20    205 non-null float64\n",
      "21    205 non-null object\n",
      "22    205 non-null object\n",
      "23    205 non-null int64\n",
      "24    205 non-null int64\n",
      "25    205 non-null object\n",
      "dtypes: float64(5), int64(5), object(16)\n",
      "memory usage: 41.7+ KB\n"
     ]
    }
   ],
   "source": [
    "cars.info()"
   ]
  },
  {
   "cell_type": "code",
   "execution_count": 663,
   "metadata": {
    "collapsed": true
   },
   "outputs": [],
   "source": [
    "cols = ['symboling', 'normalized-losses', 'make', 'fuel-type', 'aspiration', 'num-of-doors', 'body-style', \n",
    "        'drive-wheels', 'engine-location', 'wheel-base', 'length', 'width', 'height', 'curb-weight', 'engine-type', \n",
    "        'num-of-cylinders', 'engine-size', 'fuel-system', 'bore', 'stroke', 'compression-rate', 'horsepower', 'peak-rpm', 'city-mpg', 'highway-mpg', 'price']"
   ]
  },
  {
   "cell_type": "code",
   "execution_count": 664,
   "metadata": {
    "collapsed": false
   },
   "outputs": [],
   "source": [
    "cars.columns = cols"
   ]
  },
  {
   "cell_type": "code",
   "execution_count": 665,
   "metadata": {
    "collapsed": false
   },
   "outputs": [
    {
     "data": {
      "text/html": [
       "<div>\n",
       "<style scoped>\n",
       "    .dataframe tbody tr th:only-of-type {\n",
       "        vertical-align: middle;\n",
       "    }\n",
       "\n",
       "    .dataframe tbody tr th {\n",
       "        vertical-align: top;\n",
       "    }\n",
       "\n",
       "    .dataframe thead th {\n",
       "        text-align: right;\n",
       "    }\n",
       "</style>\n",
       "<table border=\"1\" class=\"dataframe\">\n",
       "  <thead>\n",
       "    <tr style=\"text-align: right;\">\n",
       "      <th></th>\n",
       "      <th>symboling</th>\n",
       "      <th>normalized-losses</th>\n",
       "      <th>make</th>\n",
       "      <th>fuel-type</th>\n",
       "      <th>aspiration</th>\n",
       "      <th>num-of-doors</th>\n",
       "      <th>body-style</th>\n",
       "      <th>drive-wheels</th>\n",
       "      <th>engine-location</th>\n",
       "      <th>wheel-base</th>\n",
       "      <th>length</th>\n",
       "      <th>width</th>\n",
       "      <th>height</th>\n",
       "      <th>curb-weight</th>\n",
       "      <th>engine-type</th>\n",
       "      <th>num-of-cylinders</th>\n",
       "      <th>engine-size</th>\n",
       "      <th>fuel-system</th>\n",
       "      <th>bore</th>\n",
       "      <th>stroke</th>\n",
       "      <th>compression-rate</th>\n",
       "      <th>horsepower</th>\n",
       "      <th>peak-rpm</th>\n",
       "      <th>city-mpg</th>\n",
       "      <th>highway-mpg</th>\n",
       "      <th>price</th>\n",
       "    </tr>\n",
       "  </thead>\n",
       "  <tbody>\n",
       "    <tr>\n",
       "      <th>0</th>\n",
       "      <td>3</td>\n",
       "      <td>?</td>\n",
       "      <td>alfa-romero</td>\n",
       "      <td>gas</td>\n",
       "      <td>std</td>\n",
       "      <td>two</td>\n",
       "      <td>convertible</td>\n",
       "      <td>rwd</td>\n",
       "      <td>front</td>\n",
       "      <td>88.6</td>\n",
       "      <td>168.8</td>\n",
       "      <td>64.1</td>\n",
       "      <td>48.8</td>\n",
       "      <td>2548</td>\n",
       "      <td>dohc</td>\n",
       "      <td>four</td>\n",
       "      <td>130</td>\n",
       "      <td>mpfi</td>\n",
       "      <td>3.47</td>\n",
       "      <td>2.68</td>\n",
       "      <td>9.0</td>\n",
       "      <td>111</td>\n",
       "      <td>5000</td>\n",
       "      <td>21</td>\n",
       "      <td>27</td>\n",
       "      <td>13495</td>\n",
       "    </tr>\n",
       "    <tr>\n",
       "      <th>1</th>\n",
       "      <td>3</td>\n",
       "      <td>?</td>\n",
       "      <td>alfa-romero</td>\n",
       "      <td>gas</td>\n",
       "      <td>std</td>\n",
       "      <td>two</td>\n",
       "      <td>convertible</td>\n",
       "      <td>rwd</td>\n",
       "      <td>front</td>\n",
       "      <td>88.6</td>\n",
       "      <td>168.8</td>\n",
       "      <td>64.1</td>\n",
       "      <td>48.8</td>\n",
       "      <td>2548</td>\n",
       "      <td>dohc</td>\n",
       "      <td>four</td>\n",
       "      <td>130</td>\n",
       "      <td>mpfi</td>\n",
       "      <td>3.47</td>\n",
       "      <td>2.68</td>\n",
       "      <td>9.0</td>\n",
       "      <td>111</td>\n",
       "      <td>5000</td>\n",
       "      <td>21</td>\n",
       "      <td>27</td>\n",
       "      <td>16500</td>\n",
       "    </tr>\n",
       "    <tr>\n",
       "      <th>2</th>\n",
       "      <td>1</td>\n",
       "      <td>?</td>\n",
       "      <td>alfa-romero</td>\n",
       "      <td>gas</td>\n",
       "      <td>std</td>\n",
       "      <td>two</td>\n",
       "      <td>hatchback</td>\n",
       "      <td>rwd</td>\n",
       "      <td>front</td>\n",
       "      <td>94.5</td>\n",
       "      <td>171.2</td>\n",
       "      <td>65.5</td>\n",
       "      <td>52.4</td>\n",
       "      <td>2823</td>\n",
       "      <td>ohcv</td>\n",
       "      <td>six</td>\n",
       "      <td>152</td>\n",
       "      <td>mpfi</td>\n",
       "      <td>2.68</td>\n",
       "      <td>3.47</td>\n",
       "      <td>9.0</td>\n",
       "      <td>154</td>\n",
       "      <td>5000</td>\n",
       "      <td>19</td>\n",
       "      <td>26</td>\n",
       "      <td>16500</td>\n",
       "    </tr>\n",
       "    <tr>\n",
       "      <th>3</th>\n",
       "      <td>2</td>\n",
       "      <td>164</td>\n",
       "      <td>audi</td>\n",
       "      <td>gas</td>\n",
       "      <td>std</td>\n",
       "      <td>four</td>\n",
       "      <td>sedan</td>\n",
       "      <td>fwd</td>\n",
       "      <td>front</td>\n",
       "      <td>99.8</td>\n",
       "      <td>176.6</td>\n",
       "      <td>66.2</td>\n",
       "      <td>54.3</td>\n",
       "      <td>2337</td>\n",
       "      <td>ohc</td>\n",
       "      <td>four</td>\n",
       "      <td>109</td>\n",
       "      <td>mpfi</td>\n",
       "      <td>3.19</td>\n",
       "      <td>3.40</td>\n",
       "      <td>10.0</td>\n",
       "      <td>102</td>\n",
       "      <td>5500</td>\n",
       "      <td>24</td>\n",
       "      <td>30</td>\n",
       "      <td>13950</td>\n",
       "    </tr>\n",
       "    <tr>\n",
       "      <th>4</th>\n",
       "      <td>2</td>\n",
       "      <td>164</td>\n",
       "      <td>audi</td>\n",
       "      <td>gas</td>\n",
       "      <td>std</td>\n",
       "      <td>four</td>\n",
       "      <td>sedan</td>\n",
       "      <td>4wd</td>\n",
       "      <td>front</td>\n",
       "      <td>99.4</td>\n",
       "      <td>176.6</td>\n",
       "      <td>66.4</td>\n",
       "      <td>54.3</td>\n",
       "      <td>2824</td>\n",
       "      <td>ohc</td>\n",
       "      <td>five</td>\n",
       "      <td>136</td>\n",
       "      <td>mpfi</td>\n",
       "      <td>3.19</td>\n",
       "      <td>3.40</td>\n",
       "      <td>8.0</td>\n",
       "      <td>115</td>\n",
       "      <td>5500</td>\n",
       "      <td>18</td>\n",
       "      <td>22</td>\n",
       "      <td>17450</td>\n",
       "    </tr>\n",
       "  </tbody>\n",
       "</table>\n",
       "</div>"
      ],
      "text/plain": [
       "   symboling normalized-losses         make fuel-type aspiration num-of-doors  \\\n",
       "0          3                 ?  alfa-romero       gas        std          two   \n",
       "1          3                 ?  alfa-romero       gas        std          two   \n",
       "2          1                 ?  alfa-romero       gas        std          two   \n",
       "3          2               164         audi       gas        std         four   \n",
       "4          2               164         audi       gas        std         four   \n",
       "\n",
       "    body-style drive-wheels engine-location  wheel-base  length  width  \\\n",
       "0  convertible          rwd           front        88.6   168.8   64.1   \n",
       "1  convertible          rwd           front        88.6   168.8   64.1   \n",
       "2    hatchback          rwd           front        94.5   171.2   65.5   \n",
       "3        sedan          fwd           front        99.8   176.6   66.2   \n",
       "4        sedan          4wd           front        99.4   176.6   66.4   \n",
       "\n",
       "   height  curb-weight engine-type num-of-cylinders  engine-size fuel-system  \\\n",
       "0    48.8         2548        dohc             four          130        mpfi   \n",
       "1    48.8         2548        dohc             four          130        mpfi   \n",
       "2    52.4         2823        ohcv              six          152        mpfi   \n",
       "3    54.3         2337         ohc             four          109        mpfi   \n",
       "4    54.3         2824         ohc             five          136        mpfi   \n",
       "\n",
       "   bore stroke  compression-rate horsepower peak-rpm  city-mpg  highway-mpg  \\\n",
       "0  3.47   2.68               9.0        111     5000        21           27   \n",
       "1  3.47   2.68               9.0        111     5000        21           27   \n",
       "2  2.68   3.47               9.0        154     5000        19           26   \n",
       "3  3.19   3.40              10.0        102     5500        24           30   \n",
       "4  3.19   3.40               8.0        115     5500        18           22   \n",
       "\n",
       "   price  \n",
       "0  13495  \n",
       "1  16500  \n",
       "2  16500  \n",
       "3  13950  \n",
       "4  17450  "
      ]
     },
     "execution_count": 665,
     "metadata": {},
     "output_type": "execute_result"
    }
   ],
   "source": [
    "cars.head()"
   ]
  },
  {
   "cell_type": "code",
   "execution_count": 666,
   "metadata": {
    "collapsed": false
   },
   "outputs": [
    {
     "name": "stdout",
     "output_type": "stream",
     "text": [
      "<class 'pandas.core.frame.DataFrame'>\n",
      "RangeIndex: 205 entries, 0 to 204\n",
      "Data columns (total 26 columns):\n",
      "symboling            205 non-null int64\n",
      "normalized-losses    205 non-null object\n",
      "make                 205 non-null object\n",
      "fuel-type            205 non-null object\n",
      "aspiration           205 non-null object\n",
      "num-of-doors         205 non-null object\n",
      "body-style           205 non-null object\n",
      "drive-wheels         205 non-null object\n",
      "engine-location      205 non-null object\n",
      "wheel-base           205 non-null float64\n",
      "length               205 non-null float64\n",
      "width                205 non-null float64\n",
      "height               205 non-null float64\n",
      "curb-weight          205 non-null int64\n",
      "engine-type          205 non-null object\n",
      "num-of-cylinders     205 non-null object\n",
      "engine-size          205 non-null int64\n",
      "fuel-system          205 non-null object\n",
      "bore                 205 non-null object\n",
      "stroke               205 non-null object\n",
      "compression-rate     205 non-null float64\n",
      "horsepower           205 non-null object\n",
      "peak-rpm             205 non-null object\n",
      "city-mpg             205 non-null int64\n",
      "highway-mpg          205 non-null int64\n",
      "price                205 non-null object\n",
      "dtypes: float64(5), int64(5), object(16)\n",
      "memory usage: 41.7+ KB\n"
     ]
    }
   ],
   "source": [
    "cars.info()"
   ]
  },
  {
   "cell_type": "code",
   "execution_count": 667,
   "metadata": {
    "collapsed": false
   },
   "outputs": [],
   "source": [
    "cars = cars.replace(\"?\",np.nan)"
   ]
  },
  {
   "cell_type": "code",
   "execution_count": 668,
   "metadata": {
    "collapsed": false
   },
   "outputs": [],
   "source": [
    "cars[\"horsepower\"] = cars[\"horsepower\"].astype(\"float\", inplace=True)"
   ]
  },
  {
   "cell_type": "code",
   "execution_count": 669,
   "metadata": {
    "collapsed": false
   },
   "outputs": [],
   "source": [
    "cars[\"peak-rpm\"] = cars[\"peak-rpm\"].astype(\"float\", inplace=True)"
   ]
  },
  {
   "cell_type": "code",
   "execution_count": 670,
   "metadata": {
    "collapsed": true
   },
   "outputs": [],
   "source": [
    "cars[\"normalized-losses\"] = cars[\"normalized-losses\"].astype(\"float\", inplace=True)"
   ]
  },
  {
   "cell_type": "code",
   "execution_count": 671,
   "metadata": {
    "collapsed": true
   },
   "outputs": [],
   "source": [
    "cars[\"bore\"] = cars[\"bore\"].astype(\"float\", inplace=True)"
   ]
  },
  {
   "cell_type": "code",
   "execution_count": 672,
   "metadata": {
    "collapsed": true
   },
   "outputs": [],
   "source": [
    "cars[\"stroke\"] = cars[\"stroke\"].astype(\"float\", inplace=True)"
   ]
  },
  {
   "cell_type": "code",
   "execution_count": 673,
   "metadata": {
    "collapsed": false
   },
   "outputs": [
    {
     "name": "stdout",
     "output_type": "stream",
     "text": [
      "<class 'pandas.core.frame.DataFrame'>\n",
      "RangeIndex: 205 entries, 0 to 204\n",
      "Data columns (total 26 columns):\n",
      "symboling            205 non-null int64\n",
      "normalized-losses    164 non-null float64\n",
      "make                 205 non-null object\n",
      "fuel-type            205 non-null object\n",
      "aspiration           205 non-null object\n",
      "num-of-doors         203 non-null object\n",
      "body-style           205 non-null object\n",
      "drive-wheels         205 non-null object\n",
      "engine-location      205 non-null object\n",
      "wheel-base           205 non-null float64\n",
      "length               205 non-null float64\n",
      "width                205 non-null float64\n",
      "height               205 non-null float64\n",
      "curb-weight          205 non-null int64\n",
      "engine-type          205 non-null object\n",
      "num-of-cylinders     205 non-null object\n",
      "engine-size          205 non-null int64\n",
      "fuel-system          205 non-null object\n",
      "bore                 201 non-null float64\n",
      "stroke               201 non-null float64\n",
      "compression-rate     205 non-null float64\n",
      "horsepower           203 non-null float64\n",
      "peak-rpm             203 non-null float64\n",
      "city-mpg             205 non-null int64\n",
      "highway-mpg          205 non-null int64\n",
      "price                201 non-null object\n",
      "dtypes: float64(10), int64(5), object(11)\n",
      "memory usage: 41.7+ KB\n"
     ]
    }
   ],
   "source": [
    "cars.info()"
   ]
  },
  {
   "cell_type": "code",
   "execution_count": 674,
   "metadata": {
    "collapsed": false
   },
   "outputs": [],
   "source": [
    "cars = cars.fillna(cars.mean())"
   ]
  },
  {
   "cell_type": "code",
   "execution_count": 675,
   "metadata": {
    "collapsed": false
   },
   "outputs": [
    {
     "name": "stdout",
     "output_type": "stream",
     "text": [
      "<class 'pandas.core.frame.DataFrame'>\n",
      "RangeIndex: 205 entries, 0 to 204\n",
      "Data columns (total 26 columns):\n",
      "symboling            205 non-null int64\n",
      "normalized-losses    205 non-null float64\n",
      "make                 205 non-null object\n",
      "fuel-type            205 non-null object\n",
      "aspiration           205 non-null object\n",
      "num-of-doors         203 non-null object\n",
      "body-style           205 non-null object\n",
      "drive-wheels         205 non-null object\n",
      "engine-location      205 non-null object\n",
      "wheel-base           205 non-null float64\n",
      "length               205 non-null float64\n",
      "width                205 non-null float64\n",
      "height               205 non-null float64\n",
      "curb-weight          205 non-null int64\n",
      "engine-type          205 non-null object\n",
      "num-of-cylinders     205 non-null object\n",
      "engine-size          205 non-null int64\n",
      "fuel-system          205 non-null object\n",
      "bore                 205 non-null float64\n",
      "stroke               205 non-null float64\n",
      "compression-rate     205 non-null float64\n",
      "horsepower           205 non-null float64\n",
      "peak-rpm             205 non-null float64\n",
      "city-mpg             205 non-null int64\n",
      "highway-mpg          205 non-null int64\n",
      "price                201 non-null object\n",
      "dtypes: float64(10), int64(5), object(11)\n",
      "memory usage: 41.7+ KB\n"
     ]
    }
   ],
   "source": [
    "cars.info()"
   ]
  },
  {
   "cell_type": "code",
   "execution_count": 676,
   "metadata": {
    "collapsed": true
   },
   "outputs": [],
   "source": [
    "continuous_values_cols = ['normalized-losses', 'wheel-base', 'length', 'width', 'height', 'curb-weight', \n",
    "                          'bore', 'stroke', 'compression-rate', 'horsepower', 'peak-rpm', 'city-mpg', 'highway-mpg', \n",
    "                          'price']"
   ]
  },
  {
   "cell_type": "code",
   "execution_count": 677,
   "metadata": {
    "collapsed": true
   },
   "outputs": [],
   "source": [
    "cars = cars[continuous_values_cols]"
   ]
  },
  {
   "cell_type": "code",
   "execution_count": 678,
   "metadata": {
    "collapsed": false
   },
   "outputs": [
    {
     "name": "stdout",
     "output_type": "stream",
     "text": [
      "<class 'pandas.core.frame.DataFrame'>\n",
      "RangeIndex: 205 entries, 0 to 204\n",
      "Data columns (total 14 columns):\n",
      "normalized-losses    205 non-null float64\n",
      "wheel-base           205 non-null float64\n",
      "length               205 non-null float64\n",
      "width                205 non-null float64\n",
      "height               205 non-null float64\n",
      "curb-weight          205 non-null int64\n",
      "bore                 205 non-null float64\n",
      "stroke               205 non-null float64\n",
      "compression-rate     205 non-null float64\n",
      "horsepower           205 non-null float64\n",
      "peak-rpm             205 non-null float64\n",
      "city-mpg             205 non-null int64\n",
      "highway-mpg          205 non-null int64\n",
      "price                201 non-null object\n",
      "dtypes: float64(10), int64(3), object(1)\n",
      "memory usage: 22.5+ KB\n"
     ]
    }
   ],
   "source": [
    "cars.info()"
   ]
  },
  {
   "cell_type": "code",
   "execution_count": 679,
   "metadata": {
    "collapsed": true
   },
   "outputs": [],
   "source": [
    "cars[\"price\"] = cars[\"price\"].astype(\"float\")"
   ]
  },
  {
   "cell_type": "code",
   "execution_count": 680,
   "metadata": {
    "collapsed": false
   },
   "outputs": [
    {
     "name": "stdout",
     "output_type": "stream",
     "text": [
      "<class 'pandas.core.frame.DataFrame'>\n",
      "RangeIndex: 205 entries, 0 to 204\n",
      "Data columns (total 14 columns):\n",
      "normalized-losses    205 non-null float64\n",
      "wheel-base           205 non-null float64\n",
      "length               205 non-null float64\n",
      "width                205 non-null float64\n",
      "height               205 non-null float64\n",
      "curb-weight          205 non-null int64\n",
      "bore                 205 non-null float64\n",
      "stroke               205 non-null float64\n",
      "compression-rate     205 non-null float64\n",
      "horsepower           205 non-null float64\n",
      "peak-rpm             205 non-null float64\n",
      "city-mpg             205 non-null int64\n",
      "highway-mpg          205 non-null int64\n",
      "price                201 non-null float64\n",
      "dtypes: float64(11), int64(3)\n",
      "memory usage: 22.5 KB\n"
     ]
    }
   ],
   "source": [
    "cars.info()"
   ]
  },
  {
   "cell_type": "code",
   "execution_count": 681,
   "metadata": {
    "collapsed": false
   },
   "outputs": [],
   "source": [
    "cars = cars.dropna(subset=['price'])"
   ]
  },
  {
   "cell_type": "code",
   "execution_count": 682,
   "metadata": {
    "collapsed": true
   },
   "outputs": [],
   "source": [
    "norm_cols = ['normalized-losses', 'wheel-base', 'length', 'width', 'height', 'curb-weight', \n",
    "                          'bore', 'stroke', 'compression-rate', 'horsepower', 'peak-rpm', 'city-mpg', 'highway-mpg']\n",
    "cars_norm = cars[norm_cols] / cars[norm_cols].max()"
   ]
  },
  {
   "cell_type": "code",
   "execution_count": 683,
   "metadata": {
    "collapsed": false
   },
   "outputs": [],
   "source": [
    "cars_norm[\"price\"] = cars[\"price\"]"
   ]
  },
  {
   "cell_type": "code",
   "execution_count": 684,
   "metadata": {
    "collapsed": false
   },
   "outputs": [
    {
     "data": {
      "text/html": [
       "<div>\n",
       "<style scoped>\n",
       "    .dataframe tbody tr th:only-of-type {\n",
       "        vertical-align: middle;\n",
       "    }\n",
       "\n",
       "    .dataframe tbody tr th {\n",
       "        vertical-align: top;\n",
       "    }\n",
       "\n",
       "    .dataframe thead th {\n",
       "        text-align: right;\n",
       "    }\n",
       "</style>\n",
       "<table border=\"1\" class=\"dataframe\">\n",
       "  <thead>\n",
       "    <tr style=\"text-align: right;\">\n",
       "      <th></th>\n",
       "      <th>normalized-losses</th>\n",
       "      <th>wheel-base</th>\n",
       "      <th>length</th>\n",
       "      <th>width</th>\n",
       "      <th>height</th>\n",
       "      <th>curb-weight</th>\n",
       "      <th>bore</th>\n",
       "      <th>stroke</th>\n",
       "      <th>compression-rate</th>\n",
       "      <th>horsepower</th>\n",
       "      <th>peak-rpm</th>\n",
       "      <th>city-mpg</th>\n",
       "      <th>highway-mpg</th>\n",
       "      <th>price</th>\n",
       "    </tr>\n",
       "  </thead>\n",
       "  <tbody>\n",
       "    <tr>\n",
       "      <th>0</th>\n",
       "      <td>0.476562</td>\n",
       "      <td>0.732837</td>\n",
       "      <td>0.811148</td>\n",
       "      <td>0.890278</td>\n",
       "      <td>0.816054</td>\n",
       "      <td>0.626660</td>\n",
       "      <td>0.880711</td>\n",
       "      <td>0.642686</td>\n",
       "      <td>0.391304</td>\n",
       "      <td>0.423664</td>\n",
       "      <td>0.757576</td>\n",
       "      <td>0.428571</td>\n",
       "      <td>0.500000</td>\n",
       "      <td>13495.0</td>\n",
       "    </tr>\n",
       "    <tr>\n",
       "      <th>1</th>\n",
       "      <td>0.476562</td>\n",
       "      <td>0.732837</td>\n",
       "      <td>0.811148</td>\n",
       "      <td>0.890278</td>\n",
       "      <td>0.816054</td>\n",
       "      <td>0.626660</td>\n",
       "      <td>0.880711</td>\n",
       "      <td>0.642686</td>\n",
       "      <td>0.391304</td>\n",
       "      <td>0.423664</td>\n",
       "      <td>0.757576</td>\n",
       "      <td>0.428571</td>\n",
       "      <td>0.500000</td>\n",
       "      <td>16500.0</td>\n",
       "    </tr>\n",
       "    <tr>\n",
       "      <th>2</th>\n",
       "      <td>0.476562</td>\n",
       "      <td>0.781638</td>\n",
       "      <td>0.822681</td>\n",
       "      <td>0.909722</td>\n",
       "      <td>0.876254</td>\n",
       "      <td>0.694294</td>\n",
       "      <td>0.680203</td>\n",
       "      <td>0.832134</td>\n",
       "      <td>0.391304</td>\n",
       "      <td>0.587786</td>\n",
       "      <td>0.757576</td>\n",
       "      <td>0.387755</td>\n",
       "      <td>0.481481</td>\n",
       "      <td>16500.0</td>\n",
       "    </tr>\n",
       "    <tr>\n",
       "      <th>3</th>\n",
       "      <td>0.640625</td>\n",
       "      <td>0.825476</td>\n",
       "      <td>0.848630</td>\n",
       "      <td>0.919444</td>\n",
       "      <td>0.908027</td>\n",
       "      <td>0.574766</td>\n",
       "      <td>0.809645</td>\n",
       "      <td>0.815348</td>\n",
       "      <td>0.434783</td>\n",
       "      <td>0.389313</td>\n",
       "      <td>0.833333</td>\n",
       "      <td>0.489796</td>\n",
       "      <td>0.555556</td>\n",
       "      <td>13950.0</td>\n",
       "    </tr>\n",
       "    <tr>\n",
       "      <th>4</th>\n",
       "      <td>0.640625</td>\n",
       "      <td>0.822167</td>\n",
       "      <td>0.848630</td>\n",
       "      <td>0.922222</td>\n",
       "      <td>0.908027</td>\n",
       "      <td>0.694540</td>\n",
       "      <td>0.809645</td>\n",
       "      <td>0.815348</td>\n",
       "      <td>0.347826</td>\n",
       "      <td>0.438931</td>\n",
       "      <td>0.833333</td>\n",
       "      <td>0.367347</td>\n",
       "      <td>0.407407</td>\n",
       "      <td>17450.0</td>\n",
       "    </tr>\n",
       "  </tbody>\n",
       "</table>\n",
       "</div>"
      ],
      "text/plain": [
       "   normalized-losses  wheel-base    length     width    height  curb-weight  \\\n",
       "0           0.476562    0.732837  0.811148  0.890278  0.816054     0.626660   \n",
       "1           0.476562    0.732837  0.811148  0.890278  0.816054     0.626660   \n",
       "2           0.476562    0.781638  0.822681  0.909722  0.876254     0.694294   \n",
       "3           0.640625    0.825476  0.848630  0.919444  0.908027     0.574766   \n",
       "4           0.640625    0.822167  0.848630  0.922222  0.908027     0.694540   \n",
       "\n",
       "       bore    stroke  compression-rate  horsepower  peak-rpm  city-mpg  \\\n",
       "0  0.880711  0.642686          0.391304    0.423664  0.757576  0.428571   \n",
       "1  0.880711  0.642686          0.391304    0.423664  0.757576  0.428571   \n",
       "2  0.680203  0.832134          0.391304    0.587786  0.757576  0.387755   \n",
       "3  0.809645  0.815348          0.434783    0.389313  0.833333  0.489796   \n",
       "4  0.809645  0.815348          0.347826    0.438931  0.833333  0.367347   \n",
       "\n",
       "   highway-mpg    price  \n",
       "0     0.500000  13495.0  \n",
       "1     0.500000  16500.0  \n",
       "2     0.481481  16500.0  \n",
       "3     0.555556  13950.0  \n",
       "4     0.407407  17450.0  "
      ]
     },
     "execution_count": 684,
     "metadata": {},
     "output_type": "execute_result"
    }
   ],
   "source": [
    "cars_norm.head()"
   ]
  },
  {
   "cell_type": "markdown",
   "metadata": {},
   "source": [
    "Starting with a Univariate k-nearest model"
   ]
  },
  {
   "cell_type": "code",
   "execution_count": 685,
   "metadata": {
    "collapsed": false
   },
   "outputs": [],
   "source": [
    "from sklearn.neighbors import KNeighborsRegressor\n",
    "from sklearn.metrics import mean_squared_error\n",
    "from sklearn.model_selection import cross_val_score, KFold\n",
    "\n",
    "def knn_train_test(train_col,targ_col,df):\n",
    "    np.random.seed(1)\n",
    "    shuffled_index = np.random.permutation(df.index)\n",
    "    rand_df = df.reindex(shuffled_index)\n",
    "    half = int(len(rand_df)/(2))\n",
    "    train_set = rand_df.iloc[0:half].copy()\n",
    "    test_set = rand_df.iloc[half:].copy()\n",
    "    model = KNeighborsRegressor()\n",
    "    model.fit(train_set[[train_col]], train_set[targ_col])\n",
    "    predicted_price = model.predict(test_set[[train_col]])\n",
    "    rmse = np.sqrt(mean_squared_error(predicted_price, test_set[targ_col]))\n",
    "    return rmse"
   ]
  },
  {
   "cell_type": "code",
   "execution_count": 686,
   "metadata": {
    "collapsed": false
   },
   "outputs": [
    {
     "data": {
      "text/plain": [
       "4062.3607492478686"
      ]
     },
     "execution_count": 686,
     "metadata": {},
     "output_type": "execute_result"
    }
   ],
   "source": [
    "rmse = knn_train_test(\"horsepower\", \"price\", cars_norm)\n",
    "rmse"
   ]
  },
  {
   "cell_type": "code",
   "execution_count": 687,
   "metadata": {
    "collapsed": false
   },
   "outputs": [
    {
     "data": {
      "text/plain": [
       "count      201.000000\n",
       "mean     13207.129353\n",
       "std       7947.066342\n",
       "min       5118.000000\n",
       "25%       7775.000000\n",
       "50%      10295.000000\n",
       "75%      16500.000000\n",
       "max      45400.000000\n",
       "Name: price, dtype: float64"
      ]
     },
     "execution_count": 687,
     "metadata": {},
     "output_type": "execute_result"
    }
   ],
   "source": [
    "cars_norm[\"price\"].describe()"
   ]
  },
  {
   "cell_type": "code",
   "execution_count": 688,
   "metadata": {
    "collapsed": true
   },
   "outputs": [],
   "source": [
    "rmses = {}\n",
    "for col in norm_cols:\n",
    "    rmse = knn_train_test(col, \"price\", cars_norm)\n",
    "    rmses[col] = rmse\n",
    "rmse_result = pd.Series(rmses)"
   ]
  },
  {
   "cell_type": "code",
   "execution_count": 689,
   "metadata": {
    "collapsed": false
   },
   "outputs": [
    {
     "data": {
      "text/plain": [
       "{'bore': 6789.972838715561,\n",
       " 'city-mpg': 4815.490311052613,\n",
       " 'compression-rate': 6610.657473570332,\n",
       " 'curb-weight': 4448.106112506626,\n",
       " 'height': 7796.075746803707,\n",
       " 'highway-mpg': 4634.736623617035,\n",
       " 'horsepower': 4062.3607492478686,\n",
       " 'length': 5426.836266059062,\n",
       " 'normalized-losses': 7339.675755133537,\n",
       " 'peak-rpm': 7649.170564081823,\n",
       " 'stroke': 7951.518534117608,\n",
       " 'wheel-base': 5460.851458362242,\n",
       " 'width': 4830.1192938551}"
      ]
     },
     "execution_count": 689,
     "metadata": {},
     "output_type": "execute_result"
    }
   ],
   "source": [
    "rmses"
   ]
  },
  {
   "cell_type": "code",
   "execution_count": 690,
   "metadata": {
    "collapsed": true
   },
   "outputs": [],
   "source": [
    "rmse_result = pd.Series(rmses)"
   ]
  },
  {
   "cell_type": "code",
   "execution_count": 691,
   "metadata": {
    "collapsed": false
   },
   "outputs": [
    {
     "data": {
      "text/plain": [
       "bore                 6789.972839\n",
       "city-mpg             4815.490311\n",
       "compression-rate     6610.657474\n",
       "curb-weight          4448.106113\n",
       "height               7796.075747\n",
       "highway-mpg          4634.736624\n",
       "horsepower           4062.360749\n",
       "length               5426.836266\n",
       "normalized-losses    7339.675755\n",
       "peak-rpm             7649.170564\n",
       "stroke               7951.518534\n",
       "wheel-base           5460.851458\n",
       "width                4830.119294\n",
       "dtype: float64"
      ]
     },
     "execution_count": 691,
     "metadata": {},
     "output_type": "execute_result"
    }
   ],
   "source": [
    "rmse_result"
   ]
  },
  {
   "cell_type": "code",
   "execution_count": 692,
   "metadata": {
    "collapsed": true
   },
   "outputs": [],
   "source": [
    "def knn_train_test2(train_col,targ_col,df):\n",
    "    np.random.seed(1)\n",
    "    shuffled_index = np.random.permutation(df.index)\n",
    "    rand_df = df.reindex(shuffled_index)\n",
    "    half = int(len(rand_df)/(2))\n",
    "    train_set = rand_df.iloc[0:half].copy()\n",
    "    test_set = rand_df.iloc[half:].copy()\n",
    "    rmses = {}\n",
    "    for i in [1,3,5,7,9]:\n",
    "        model = KNeighborsRegressor(n_neighbors=i)\n",
    "        model.fit(train_set[[train_col]], train_set[targ_col])\n",
    "        predicted_price = model.predict(test_set[[train_col]])\n",
    "        rmse = np.sqrt(mean_squared_error(predicted_price, test_set[targ_col]))\n",
    "        rmses[i] = rmse\n",
    "    return rmses"
   ]
  },
  {
   "cell_type": "code",
   "execution_count": 693,
   "metadata": {
    "collapsed": false
   },
   "outputs": [
    {
     "data": {
      "text/plain": [
       "['normalized-losses',\n",
       " 'wheel-base',\n",
       " 'length',\n",
       " 'width',\n",
       " 'height',\n",
       " 'curb-weight',\n",
       " 'bore',\n",
       " 'stroke',\n",
       " 'compression-rate',\n",
       " 'horsepower',\n",
       " 'peak-rpm',\n",
       " 'city-mpg',\n",
       " 'highway-mpg']"
      ]
     },
     "execution_count": 693,
     "metadata": {},
     "output_type": "execute_result"
    }
   ],
   "source": [
    "norm_cols"
   ]
  },
  {
   "cell_type": "code",
   "execution_count": 694,
   "metadata": {
    "collapsed": false
   },
   "outputs": [
    {
     "data": {
      "text/plain": [
       "{'bore': {1: 8602.58848450066,\n",
       "  3: 6984.239489480916,\n",
       "  5: 6789.972838715561,\n",
       "  7: 6820.838642100547,\n",
       "  9: 6866.272034909252},\n",
       " 'city-mpg': {1: 5863.190943471308,\n",
       "  3: 4644.118807637241,\n",
       "  5: 4815.490311052613,\n",
       "  7: 4946.51554849771,\n",
       "  9: 5232.6650173540265},\n",
       " 'compression-rate': {1: 8087.205346523092,\n",
       "  3: 7375.063685578359,\n",
       "  5: 6610.657473570332,\n",
       "  7: 6750.1686085824385,\n",
       "  9: 7051.0916112614905},\n",
       " 'curb-weight': {1: 5288.0195725810245,\n",
       "  3: 5022.318011757233,\n",
       "  5: 4448.106112506626,\n",
       "  7: 4329.525204670641,\n",
       "  9: 4632.497106001295},\n",
       " 'height': {1: 8904.04645636071,\n",
       "  3: 8268.260644059777,\n",
       "  5: 7796.075746803707,\n",
       "  7: 7624.203961561125,\n",
       "  9: 7769.42711887634},\n",
       " 'highway-mpg': {1: 6025.594966720739,\n",
       "  3: 4627.908507167689,\n",
       "  5: 4634.736623617035,\n",
       "  7: 4771.561909942722,\n",
       "  9: 5260.734903704089},\n",
       " 'horsepower': {1: 4170.054848037801,\n",
       "  3: 4037.298231342451,\n",
       "  5: 4062.3607492478686,\n",
       "  7: 4380.48161318677,\n",
       "  9: 4516.549891821715},\n",
       " 'length': {1: 4678.174812280686,\n",
       "  3: 5168.115504300052,\n",
       "  5: 5426.836266059062,\n",
       "  7: 5311.883616635263,\n",
       "  9: 5432.790508833493},\n",
       " 'normalized-losses': {1: 7836.7752643899685,\n",
       "  3: 7516.084828453897,\n",
       "  5: 7339.675755133537,\n",
       "  7: 7759.126829130677,\n",
       "  9: 7794.746366502435},\n",
       " 'peak-rpm': {1: 9511.480067750124,\n",
       "  3: 8537.550899973421,\n",
       "  5: 7649.170564081823,\n",
       "  7: 7549.741950042047,\n",
       "  9: 7408.8682113536215},\n",
       " 'stroke': {1: 9043.351317377035,\n",
       "  3: 7247.307977352132,\n",
       "  5: 7951.518534117608,\n",
       "  7: 7758.10780810464,\n",
       "  9: 7738.862402656538},\n",
       " 'wheel-base': {1: 4493.734068810494,\n",
       "  3: 5208.39331165465,\n",
       "  5: 5460.851458362242,\n",
       "  7: 5448.460978918332,\n",
       "  9: 5738.590106748752},\n",
       " 'width': {1: 4544.9357226227385,\n",
       "  3: 4648.149766156945,\n",
       "  5: 4830.1192938551,\n",
       "  7: 4786.639069169589,\n",
       "  9: 4730.786126108593}}"
      ]
     },
     "execution_count": 694,
     "metadata": {},
     "output_type": "execute_result"
    }
   ],
   "source": [
    "columns = norm_cols\n",
    "rmses_results = {}\n",
    "rmses_int = {}\n",
    "for col in columns:\n",
    "    rmses = knn_train_test2(col, \"price\", cars_norm)\n",
    "    rmses_results[col] = rmses\n",
    "\n",
    "rmses_results"
   ]
  },
  {
   "cell_type": "code",
   "execution_count": 695,
   "metadata": {
    "collapsed": false
   },
   "outputs": [
    {
     "data": {
      "text/plain": [
       "dict_items([('normalized-losses', {1: 7836.7752643899685, 3: 7516.084828453897, 9: 7794.746366502435, 5: 7339.675755133537, 7: 7759.126829130677}), ('horsepower', {1: 4170.054848037801, 3: 4037.298231342451, 9: 4516.549891821715, 5: 4062.3607492478686, 7: 4380.48161318677}), ('peak-rpm', {1: 9511.480067750124, 3: 8537.550899973421, 9: 7408.8682113536215, 5: 7649.170564081823, 7: 7549.741950042047}), ('compression-rate', {1: 8087.205346523092, 3: 7375.063685578359, 9: 7051.0916112614905, 5: 6610.657473570332, 7: 6750.1686085824385}), ('wheel-base', {1: 4493.734068810494, 3: 5208.39331165465, 9: 5738.590106748752, 5: 5460.851458362242, 7: 5448.460978918332}), ('bore', {1: 8602.58848450066, 3: 6984.239489480916, 9: 6866.272034909252, 5: 6789.972838715561, 7: 6820.838642100547}), ('highway-mpg', {1: 6025.594966720739, 3: 4627.908507167689, 9: 5260.734903704089, 5: 4634.736623617035, 7: 4771.561909942722}), ('length', {1: 4678.174812280686, 3: 5168.115504300052, 9: 5432.790508833493, 5: 5426.836266059062, 7: 5311.883616635263}), ('width', {1: 4544.9357226227385, 3: 4648.149766156945, 9: 4730.786126108593, 5: 4830.1192938551, 7: 4786.639069169589}), ('height', {1: 8904.04645636071, 3: 8268.260644059777, 9: 7769.42711887634, 5: 7796.075746803707, 7: 7624.203961561125}), ('city-mpg', {1: 5863.190943471308, 3: 4644.118807637241, 9: 5232.6650173540265, 5: 4815.490311052613, 7: 4946.51554849771}), ('curb-weight', {1: 5288.0195725810245, 3: 5022.318011757233, 9: 4632.497106001295, 5: 4448.106112506626, 7: 4329.525204670641}), ('stroke', {1: 9043.351317377035, 3: 7247.307977352132, 9: 7738.862402656538, 5: 7951.518534117608, 7: 7758.10780810464})])"
      ]
     },
     "execution_count": 695,
     "metadata": {},
     "output_type": "execute_result"
    }
   ],
   "source": [
    "rmses_results.items()"
   ]
  },
  {
   "cell_type": "code",
   "execution_count": 696,
   "metadata": {
    "collapsed": false
   },
   "outputs": [
    {
     "data": {
      "text/plain": [
       "<matplotlib.legend.Legend at 0x7efcfd4290f0>"
      ]
     },
     "execution_count": 696,
     "metadata": {},
     "output_type": "execute_result"
    },
    {
     "data": {
      "image/png": "[encoded data removed]",
      "text/plain": [
       "<matplotlib.figure.Figure at 0x7efcfd88be80>"
      ]
     },
     "metadata": {},
     "output_type": "display_data"
    }
   ],
   "source": [
    "import matplotlib.pyplot as plt\n",
    "%matplotlib inline \n",
    "minimal_rmse_list = {}\n",
    "plt.style.use('seaborn-notebook')\n",
    "labels = []\n",
    "for k,v in rmses_results.items():\n",
    "    x = list(v.keys())\n",
    "    y = list(v.values())\n",
    "    plt.plot([1,3,5,7,9],y)\n",
    "    plt.xlabel('k value')\n",
    "    plt.ylabel('RMSE')\n",
    "    minimal_rmse_list[k] = np.mean(y)\n",
    "    labels.append(str(k))\n",
    "plt.legend(labels, loc='upper center', bbox_to_anchor=(0.5, 1.05), \n",
    "               ncol=3, fancybox=True, shadow=True, fontsize=\"xx-small\")\n",
    "\n",
    "    "
   ]
  },
  {
   "cell_type": "code",
   "execution_count": 697,
   "metadata": {
    "collapsed": false
   },
   "outputs": [
    {
     "data": {
      "text/plain": [
       "{'bore': 7212.782297941388,\n",
       " 'city-mpg': 5100.3961256025805,\n",
       " 'compression-rate': 7174.837345103142,\n",
       " 'curb-weight': 4744.093201503363,\n",
       " 'height': 8072.402785532332,\n",
       " 'highway-mpg': 5064.107382230455,\n",
       " 'horsepower': 4233.349066727322,\n",
       " 'length': 5203.5601416217105,\n",
       " 'normalized-losses': 7649.281808722104,\n",
       " 'peak-rpm': 8131.362338640209,\n",
       " 'stroke': 7947.829607921592,\n",
       " 'wheel-base': 5270.005984898894,\n",
       " 'width': 4708.1259955825935}"
      ]
     },
     "execution_count": 697,
     "metadata": {},
     "output_type": "execute_result"
    }
   ],
   "source": [
    "minimal_rmse_list"
   ]
  },
  {
   "cell_type": "code",
   "execution_count": 698,
   "metadata": {
    "collapsed": true
   },
   "outputs": [],
   "source": [
    "two_feat = min(minimal_rmse_list, key=minimal_rmse_list.get)"
   ]
  },
  {
   "cell_type": "code",
   "execution_count": 699,
   "metadata": {
    "collapsed": false
   },
   "outputs": [
    {
     "data": {
      "text/plain": [
       "[('horsepower', 4233.349066727322),\n",
       " ('width', 4708.1259955825935),\n",
       " ('curb-weight', 4744.093201503363),\n",
       " ('highway-mpg', 5064.107382230455),\n",
       " ('city-mpg', 5100.3961256025805),\n",
       " ('length', 5203.5601416217105),\n",
       " ('wheel-base', 5270.005984898894),\n",
       " ('compression-rate', 7174.837345103142),\n",
       " ('bore', 7212.782297941388),\n",
       " ('normalized-losses', 7649.281808722104),\n",
       " ('stroke', 7947.829607921592),\n",
       " ('height', 8072.402785532332),\n",
       " ('peak-rpm', 8131.362338640209)]"
      ]
     },
     "execution_count": 699,
     "metadata": {},
     "output_type": "execute_result"
    }
   ],
   "source": [
    "import operator\n",
    "sorted_rmse = sorted(minimal_rmse_list.items(), key=operator.itemgetter(1))\n",
    "sorted_rmse"
   ]
  },
  {
   "cell_type": "code",
   "execution_count": 700,
   "metadata": {
    "collapsed": false
   },
   "outputs": [
    {
     "data": {
      "text/plain": [
       "['horsepower',\n",
       " 'width',\n",
       " 'curb-weight',\n",
       " 'highway-mpg',\n",
       " 'city-mpg',\n",
       " 'length',\n",
       " 'wheel-base',\n",
       " 'compression-rate',\n",
       " 'bore',\n",
       " 'normalized-losses',\n",
       " 'stroke',\n",
       " 'height',\n",
       " 'peak-rpm']"
      ]
     },
     "execution_count": 700,
     "metadata": {},
     "output_type": "execute_result"
    }
   ],
   "source": [
    "sorted_features = []\n",
    "for item in sorted_rmse:\n",
    "    sorted_features.append(item[0])\n",
    "sorted_features"
   ]
  },
  {
   "cell_type": "code",
   "execution_count": 701,
   "metadata": {
    "collapsed": true
   },
   "outputs": [],
   "source": [
    "def knn_train_test3(train_cols,targ_col,df):\n",
    "    np.random.seed(1)\n",
    "    shuffled_index = np.random.permutation(df.index)\n",
    "    rand_df = df.reindex(shuffled_index)\n",
    "    half = int(len(rand_df)/(2))\n",
    "    train_set = rand_df.iloc[0:half].copy()\n",
    "    test_set = rand_df.iloc[half:].copy()\n",
    "    \n",
    "    model = KNeighborsRegressor()\n",
    "    model.fit(train_set[train_cols], train_set[targ_col])\n",
    "    predicted_price = model.predict(test_set[train_cols])\n",
    "    rmse = np.sqrt(mean_squared_error(predicted_price, test_set[targ_col]))\n",
    "    return rmse"
   ]
  },
  {
   "cell_type": "code",
   "execution_count": 702,
   "metadata": {
    "collapsed": false
   },
   "outputs": [],
   "source": [
    "rmses_multi = {}\n",
    "for i in range(2,6,1):\n",
    "    rmse = knn_train_test3(sorted_features[0:i],\"price\",cars_norm)\n",
    "    rmses_multi[str(i) + \" features\"] = rmse"
   ]
  },
  {
   "cell_type": "code",
   "execution_count": 703,
   "metadata": {
    "collapsed": false
   },
   "outputs": [
    {
     "data": {
      "text/plain": [
       "{'2 features': 3668.955508798731,\n",
       " '3 features': 3221.5146799707945,\n",
       " '4 features': 3255.663106491564,\n",
       " '5 features': 3344.105819420963}"
      ]
     },
     "execution_count": 703,
     "metadata": {},
     "output_type": "execute_result"
    }
   ],
   "source": [
    "rmses_multi"
   ]
  },
  {
   "cell_type": "code",
   "execution_count": 704,
   "metadata": {
    "collapsed": true
   },
   "outputs": [],
   "source": [
    "def knn_train_test4(train_cols,targ_col,df):\n",
    "    np.random.seed(1)\n",
    "    shuffled_index = np.random.permutation(df.index)\n",
    "    rand_df = df.reindex(shuffled_index)\n",
    "    half = int(len(rand_df)/(2))\n",
    "    train_set = rand_df.iloc[0:half].copy()\n",
    "    test_set = rand_df.iloc[half:].copy()\n",
    "    rmses_with_hyperparam = {}\n",
    "    for i in range(1,26,1):\n",
    "        model = KNeighborsRegressor(n_neighbors=i)\n",
    "        model.fit(train_set[train_cols], train_set[targ_col])\n",
    "        predicted_price = model.predict(test_set[train_cols])\n",
    "        rmse = np.sqrt(mean_squared_error(predicted_price, test_set[targ_col]))\n",
    "        rmses_with_hyperparam[i] = rmse\n",
    "    return rmses_with_hyperparam"
   ]
  },
  {
   "cell_type": "code",
   "execution_count": 705,
   "metadata": {
    "collapsed": false
   },
   "outputs": [],
   "source": [
    "rmses_multi_param = {}\n",
    "for i in range(2,5,1):\n",
    "    rmse = knn_train_test4(sorted_features[0:i],\"price\",cars_norm)\n",
    "    rmses_multi_param[str(i) + \" features\"] = rmse"
   ]
  },
  {
   "cell_type": "code",
   "execution_count": 706,
   "metadata": {
    "collapsed": false
   },
   "outputs": [
    {
     "data": {
      "text/plain": [
       "{'2 features': {1: 3278.275435603782,\n",
       "  2: 3172.511637738175,\n",
       "  3: 3321.863601937772,\n",
       "  4: 3439.553723948173,\n",
       "  5: 3668.955508798731,\n",
       "  6: 3787.760553727788,\n",
       "  7: 4015.280100580582,\n",
       "  8: 4201.618865707251,\n",
       "  9: 4222.256241988474,\n",
       "  10: 4430.419972371034,\n",
       "  11: 4436.961308316933,\n",
       "  12: 4416.146987360294,\n",
       "  13: 4554.258506744368,\n",
       "  14: 4732.336438852271,\n",
       "  15: 4882.109699425825,\n",
       "  16: 4996.104717884252,\n",
       "  17: 5086.207078347438,\n",
       "  18: 5142.234653093761,\n",
       "  19: 5176.679730121361,\n",
       "  20: 5153.537983168495,\n",
       "  21: 5102.957044818842,\n",
       "  22: 5093.582671008411,\n",
       "  23: 5116.814715352969,\n",
       "  24: 5124.287645255827,\n",
       "  25: 5133.476430234223},\n",
       " '3 features': {1: 3341.7224007928003,\n",
       "  2: 3038.759014225158,\n",
       "  3: 3041.0141990191137,\n",
       "  4: 2955.761949226468,\n",
       "  5: 3221.5146799707945,\n",
       "  6: 3540.961428056439,\n",
       "  7: 3797.040500486639,\n",
       "  8: 4003.677557918278,\n",
       "  9: 4075.290191669132,\n",
       "  10: 4225.049450691918,\n",
       "  11: 4338.870494786189,\n",
       "  12: 4428.084138858935,\n",
       "  13: 4495.297516180466,\n",
       "  14: 4539.722027707901,\n",
       "  15: 4614.1584585651235,\n",
       "  16: 4654.4505724252185,\n",
       "  17: 4714.058094964864,\n",
       "  18: 4639.260331153174,\n",
       "  19: 4630.128236319653,\n",
       "  20: 4668.179823322071,\n",
       "  21: 4656.209271796312,\n",
       "  22: 4610.013405029357,\n",
       "  23: 4644.534141061534,\n",
       "  24: 4672.078979801441,\n",
       "  25: 4719.461350120288},\n",
       " '4 features': {1: 2569.5801155630525,\n",
       "  2: 2541.1262544566944,\n",
       "  3: 2822.970541020141,\n",
       "  4: 2917.4145913627085,\n",
       "  5: 3255.663106491564,\n",
       "  6: 3658.6116111637393,\n",
       "  7: 3891.745822114835,\n",
       "  8: 4079.7786559631186,\n",
       "  9: 4306.17370931438,\n",
       "  10: 4356.60445684094,\n",
       "  11: 4373.669179156075,\n",
       "  12: 4475.942658664162,\n",
       "  13: 4509.299042547241,\n",
       "  14: 4601.938015816209,\n",
       "  15: 4610.9222893347305,\n",
       "  16: 4685.810913599419,\n",
       "  17: 4718.663422892543,\n",
       "  18: 4775.793333609248,\n",
       "  19: 4756.109826829987,\n",
       "  20: 4721.2743077593905,\n",
       "  21: 4741.772544196127,\n",
       "  22: 4724.031217261144,\n",
       "  23: 4715.994270662349,\n",
       "  24: 4761.302027141019,\n",
       "  25: 4811.137499182454}}"
      ]
     },
     "execution_count": 706,
     "metadata": {},
     "output_type": "execute_result"
    }
   ],
   "source": [
    "rmses_multi_param"
   ]
  },
  {
   "cell_type": "code",
   "execution_count": 707,
   "metadata": {
    "collapsed": false
   },
   "outputs": [
    {
     "data": {
      "text/plain": [
       "<matplotlib.legend.Legend at 0x7efcfddf2c50>"
      ]
     },
     "execution_count": 707,
     "metadata": {},
     "output_type": "execute_result"
    },
    {
     "data": {
      "image/png": "[encoded data removed]",
      "text/plain": [
       "<matplotlib.figure.Figure at 0x7efcfddf2cc0>"
      ]
     },
     "metadata": {},
     "output_type": "display_data"
    }
   ],
   "source": [
    "labels = []\n",
    "for k,v in rmses_multi_param.items():\n",
    "    x = list(v.keys())\n",
    "    y = list(v.values())\n",
    "    plt.plot(x,y)\n",
    "    plt.xlabel('k value')\n",
    "    plt.ylabel('RMSE')\n",
    "    labels.append(str(k))\n",
    "plt.legend(labels, loc='upper center', bbox_to_anchor=(0.5, 1.), \n",
    "               ncol=3, fancybox=True, shadow=True, fontsize=\"x-small\")"
   ]
  },
  {
   "cell_type": "code",
   "execution_count": 709,
   "metadata": {
    "collapsed": false
   },
   "outputs": [
    {
     "data": {
      "text/plain": [
       "{'2 features, 2 neighbors': 3172.511637738175,\n",
       " '3 features, 4 neighbors': 2955.761949226468,\n",
       " '4 features, 2 neighbors': 2541.1262544566944}"
      ]
     },
     "execution_count": 709,
     "metadata": {},
     "output_type": "execute_result"
    }
   ],
   "source": [
    "rmses_min = {}\n",
    "for k,v in rmses_multi_param.items():\n",
    "    x = list(v.keys())\n",
    "    y = list(v.values())\n",
    "    min_val = min(y)\n",
    "    rmses_min[str(k) + \", \" + str(min(v, key=v.get)) + \" neighbors\"] = min_val\n",
    "rmses_min"
   ]
  },
  {
   "cell_type": "code",
   "execution_count": 845,
   "metadata": {
    "collapsed": true
   },
   "outputs": [],
   "source": [
    "from sklearn.model_selection import cross_val_score, KFold\n",
    "def knn_train_test5(train_cols,targ_col,df):\n",
    "    np.random.seed(1)\n",
    "    shuffled_index = np.random.permutation(df.index)\n",
    "    rand_df = df.reindex(shuffled_index)\n",
    "    half = int(len(rand_df)/(2))\n",
    "    train_set = rand_df.iloc[0:half].copy()\n",
    "    test_set = rand_df.iloc[half:].copy()\n",
    "    rmse_fold = {}\n",
    "    for x in range(8,13,2):\n",
    "        model = KNeighborsRegressor(n_neighbors=5)\n",
    "        kf = KFold(x, shuffle=True, random_state=1)\n",
    "        mses = cross_val_score(model, train_set[train_cols], train_set[targ_col], scoring=\"neg_mean_squared_error\", cv=kf)\n",
    "        rmses = np.sqrt(np.absolute(mses))\n",
    "        rmses = int(round(np.average(rmses),0))\n",
    "        rmse_fold[str(x) + \" folds\"] = rmses\n",
    "    return rmse_fold"
   ]
  },
  {
   "cell_type": "code",
   "execution_count": 846,
   "metadata": {
    "collapsed": false
   },
   "outputs": [
    {
     "data": {
      "text/plain": [
       "{'2 features': {'10 folds': 3462, '12 folds': 3551, '8 folds': 3698},\n",
       " '3 features': {'10 folds': 3287, '12 folds': 3405, '8 folds': 3548},\n",
       " '4 features': {'10 folds': 3273, '12 folds': 3379, '8 folds': 3455}}"
      ]
     },
     "execution_count": 846,
     "metadata": {},
     "output_type": "execute_result"
    }
   ],
   "source": [
    "rmses_cross_val = {}\n",
    "for i in range(2,5,1):\n",
    "    rmse = knn_train_test5(sorted_features[0:i],\"price\",cars_norm)\n",
    "    rmses_cross_val[str(i) + \" features\"] = rmse\n",
    "rmses_cross_val"
   ]
  },
  {
   "cell_type": "code",
   "execution_count": 808,
   "metadata": {
    "collapsed": false
   },
   "outputs": [
    {
     "name": "stdout",
     "output_type": "stream",
     "text": [
      "3250\n",
      "3250\n",
      "3257\n",
      "3257\n",
      "3369\n",
      "3369\n"
     ]
    },
    {
     "data": {
      "text/plain": [
       "{'3 neighbors, 10 folds': 3369, '4 neighbors, 10 folds': 3369}"
      ]
     },
     "execution_count": 808,
     "metadata": {},
     "output_type": "execute_result"
    }
   ],
   "source": [
    "rmses_min_f = {}\n",
    "for k,o in rmses_cross_val.items():\n",
    "    for u,v in o.items():\n",
    "        x = list(v.keys())\n",
    "        y = list(v.values())\n",
    "        min_val = min(y)\n",
    "        print(min_val)\n",
    "        rmses_min_f[str(u) + \", \" + str(min(v, key=v.get))] = min_val\n",
    "rmses_min_f\n"
   ]
  },
  {
   "cell_type": "code",
   "execution_count": null,
   "metadata": {
    "collapsed": true
   },
   "outputs": [],
   "source": []
  }
 ],
 "metadata": {
  "anaconda-cloud": {},
  "kernelspec": {
   "display_name": "Python [conda root]",
   "language": "python",
   "name": "conda-root-py"
  },
  "language_info": {
   "codemirror_mode": {
    "name": "ipython",
    "version": 3
   },
   "file_extension": ".py",
   "mimetype": "text/x-python",
   "name": "python",
   "nbconvert_exporter": "python",
   "pygments_lexer": "ipython3",
   "version": "3.5.2"
  }
 },
 "nbformat": 4,
 "nbformat_minor": 2
}
